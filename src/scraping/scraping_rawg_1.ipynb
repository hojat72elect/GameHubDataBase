{
 "cells": [
  {
   "cell_type": "markdown",
   "metadata": {},
   "source": [
    "This notebook is for scraping RAWG website and making up a list of games."
   ]
  },
  {
   "cell_type": "code",
   "execution_count": 3,
   "metadata": {},
   "outputs": [],
   "source": [
    "# Required libraries \n",
    "import requests\n",
    "from bs4 import BeautifulSoup"
   ]
  },
  {
   "cell_type": "code",
   "execution_count": 1,
   "metadata": {},
   "outputs": [],
   "source": [
    "def RawgScraper1():\n",
    "    \"\"\"\n",
    "    Goes through a web page of RAWG (showing a list of games) and makes a list of games in that page\n",
    "    \"\"\"\n",
    "\n",
    "    response = requests.get(\"https://rawg.io/?filters=%7B%22ordering%22%3A%5B%22-added%22%5D%7D\")\n",
    "    html_content = response.content\n",
    "    soup = BeautifulSoup(html_content, 'html.parser')\n",
    "    links = soup.find_all('a', class_='game-card-medium__info__name')\n",
    "\n",
    "    with open('top_games_rawg_big_version.txt', 'a') as f:\n",
    "        for link in links:\n",
    "            game_link = link.get(\"href\")\n",
    "            print(game_link)\n",
    "            f.write(game_link + '\\n')"
   ]
  },
  {
   "cell_type": "code",
   "execution_count": 4,
   "metadata": {},
   "outputs": [
    {
     "name": "stdout",
     "output_type": "stream",
     "text": [
      "/games/satisfactory\n",
      "/games/stalker-2\n",
      "/games/core-keeper\n",
      "/games/black-myth-wu-kong\n",
      "/games/warhammer-40000-space-marine-ii\n",
      "/games/silent-hill-2-remake\n",
      "/games/death-stranding-2\n",
      "/games/dragon-age-4-tba\n",
      "/games/avowed\n",
      "/games/peglin\n",
      "/games/unknown-9\n",
      "/games/diplomacy-is-not-an-option\n",
      "/games/the-plucky-squire\n",
      "/games/metaphor-refantazio\n",
      "/games/satisfactory\n",
      "/games/hollow-knight-silksong\n",
      "/games/core-keeper\n",
      "/games/little-devil-inside\n",
      "/games/wolf-among-us-2\n",
      "/games/shadows-of-doubt\n",
      "/games/witchfire\n",
      "/games/dragon-age-4-tba\n",
      "/games/frostpunk-2\n",
      "/games/peglin\n",
      "/games/star-wars-outlaws\n",
      "/games/diplomacy-is-not-an-option\n",
      "/games/path-of-exile-2\n",
      "/games/vampire-the-masquerade-bloodlines-2\n",
      "/games/prince-of-persia-the-sands-of-time-remake\n",
      "/games/black-myth-wu-kong\n",
      "/games/warhammer-40000-space-marine-ii\n",
      "/games/silent-hill-2-remake\n",
      "/games/shadows-of-doubt\n",
      "/games/witchfire\n",
      "/games/grand-theft-aito-vi\n",
      "/games/frostpunk-2\n",
      "/games/unknown-9\n",
      "/games/star-wars-outlaws\n",
      "/games/the-plucky-squire\n",
      "/games/assassins-creed-shadows\n"
     ]
    }
   ],
   "source": [
    "RawgScraper1()"
   ]
  }
 ],
 "metadata": {
  "kernelspec": {
   "display_name": ".venv",
   "language": "python",
   "name": "python3"
  },
  "language_info": {
   "codemirror_mode": {
    "name": "ipython",
    "version": 3
   },
   "file_extension": ".py",
   "mimetype": "text/x-python",
   "name": "python",
   "nbconvert_exporter": "python",
   "pygments_lexer": "ipython3",
   "version": "3.12.4"
  }
 },
 "nbformat": 4,
 "nbformat_minor": 2
}
